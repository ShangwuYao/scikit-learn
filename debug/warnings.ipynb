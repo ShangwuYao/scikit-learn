{
 "cells": [
  {
   "cell_type": "code",
   "execution_count": 10,
   "metadata": {},
   "outputs": [
    {
     "name": "stderr",
     "output_type": "stream",
     "text": [
      "/anaconda/lib/python3.6/importlib/_bootstrap.py:205: ImportWarning: can't resolve package from __spec__ or __package__, falling back on __name__ and __path__\n",
      "  return f(*args, **kwds)\n",
      "/anaconda/lib/python3.6/importlib/_bootstrap.py:205: ImportWarning: can't resolve package from __spec__ or __package__, falling back on __name__ and __path__\n",
      "  return f(*args, **kwds)\n"
     ]
    }
   ],
   "source": [
    "import warnings\n",
    "from sklearn.utils.testing import ignore_warnings"
   ]
  },
  {
   "cell_type": "code",
   "execution_count": 2,
   "metadata": {},
   "outputs": [],
   "source": [
    "class ignore_warning(object):\n",
    "    def __enter__(self):\n",
    "        warnings.catch_warnings()\n",
    "            \n",
    "    def __exit__(self, *exc_info):\n",
    "        pass"
   ]
  },
  {
   "cell_type": "code",
   "execution_count": 4,
   "metadata": {},
   "outputs": [
    {
     "name": "stdout",
     "output_type": "stream",
     "text": [
      "[]\n"
     ]
    }
   ],
   "source": [
    "warnings.resetwarnings()\n",
    "print(warnings.filters)"
   ]
  },
  {
   "cell_type": "code",
   "execution_count": 5,
   "metadata": {},
   "outputs": [
    {
     "name": "stdout",
     "output_type": "stream",
     "text": [
      "[('ignore', None, <class 'UserWarning'>, None, 0)]\n"
     ]
    }
   ],
   "source": [
    "with ignore_warning():\n",
    "    warnings.simplefilter('ignore', UserWarning)\n",
    "    print(warnings.filters)"
   ]
  },
  {
   "cell_type": "code",
   "execution_count": 6,
   "metadata": {},
   "outputs": [
    {
     "name": "stdout",
     "output_type": "stream",
     "text": [
      "[('ignore', None, <class 'UserWarning'>, None, 0)]\n"
     ]
    }
   ],
   "source": [
    "print(warnings.filters)"
   ]
  },
  {
   "cell_type": "code",
   "execution_count": 17,
   "metadata": {},
   "outputs": [],
   "source": [
    "def controlled_warning_context_manager():\n",
    "    with ignore_warnings():\n",
    "        warnings.warn('yo', UserWarning)\n",
    "        print(warnings.filters)"
   ]
  },
  {
   "cell_type": "code",
   "execution_count": 18,
   "metadata": {},
   "outputs": [],
   "source": [
    "@ignore_warnings\n",
    "def controlled_warning_decorator():\n",
    "    warnings.warn('yo', UserWarning)\n",
    "    print(warnings.filters)"
   ]
  },
  {
   "cell_type": "code",
   "execution_count": 19,
   "metadata": {},
   "outputs": [
    {
     "name": "stdout",
     "output_type": "stream",
     "text": [
      "[('ignore', None, <class 'UserWarning'>, None, 0)]\n",
      "[('ignore', None, <class 'Warning'>, None, 0)]\n",
      "[]\n"
     ]
    }
   ],
   "source": [
    "warnings.resetwarnings()\n",
    "warnings.simplefilter('ignore', UserWarning)\n",
    "print(warnings.filters)\n",
    "controlled_warning_context_manager()\n",
    "print(warnings.filters)"
   ]
  },
  {
   "cell_type": "code",
   "execution_count": 20,
   "metadata": {},
   "outputs": [
    {
     "name": "stdout",
     "output_type": "stream",
     "text": [
      "[('ignore', None, <class 'UserWarning'>, None, 0)]\n",
      "[('ignore', None, <class 'Warning'>, None, 0)]\n",
      "[]\n"
     ]
    }
   ],
   "source": [
    "warnings.resetwarnings()\n",
    "warnings.simplefilter('ignore', UserWarning)\n",
    "print(warnings.filters)\n",
    "controlled_warning_decorator()\n",
    "print(warnings.filters)"
   ]
  },
  {
   "cell_type": "code",
   "execution_count": null,
   "metadata": {},
   "outputs": [],
   "source": [
    "def ignore_warnings(obj=None, category=Warning):\n",
    "    \"\"\"Context manager and decorator to ignore warnings.\n",
    "\n",
    "    Note: Using this (in both variants) will clear all warnings\n",
    "    from all python modules loaded. In case you need to test\n",
    "    cross-module-warning-logging, this is not your tool of choice.\n",
    "\n",
    "    Parameters\n",
    "    ----------\n",
    "    category : warning class, defaults to Warning.\n",
    "        The category to filter. If Warning, all categories will be muted.\n",
    "\n",
    "    Examples\n",
    "    --------\n",
    "    >>> with ignore_warnings():\n",
    "    ...     warnings.warn('buhuhuhu')\n",
    "\n",
    "    >>> def nasty_warn():\n",
    "    ...    warnings.warn('buhuhuhu')\n",
    "    ...    print(42)\n",
    "\n",
    "    >>> ignore_warnings(nasty_warn)()\n",
    "    42\n",
    "    \"\"\"\n",
    "    if callable(obj):\n",
    "        return _IgnoreWarnings(category=category)(obj)\n",
    "    else:\n",
    "        return _IgnoreWarnings(category=category)\n",
    "\n",
    "\n",
    "class _IgnoreWarnings(object):\n",
    "    \"\"\"Improved and simplified Python warnings context manager and decorator.\n",
    "\n",
    "    This class allows the user to ignore the warnings raised by a function.\n",
    "    Copied from Python 2.7.5 and modified as required.\n",
    "\n",
    "    Parameters\n",
    "    ----------\n",
    "    category : tuple of warning class, default to Warning\n",
    "        The category to filter. By default, all the categories will be muted.\n",
    "\n",
    "    \"\"\"\n",
    "\n",
    "    def __init__(self, category):\n",
    "        self._record = True\n",
    "        self._module = sys.modules['warnings']\n",
    "        self._entered = False\n",
    "        self.log = []\n",
    "        self.category = category\n",
    "\n",
    "    def __call__(self, fn):\n",
    "        \"\"\"Decorator to catch and hide warnings without visual nesting.\"\"\"\n",
    "        @wraps(fn)\n",
    "        def wrapper(*args, **kwargs):\n",
    "            # very important to avoid uncontrolled state propagation\n",
    "            clean_warning_registry()\n",
    "            with warnings.catch_warnings():\n",
    "                warnings.simplefilter(\"ignore\", self.category)\n",
    "                return fn(*args, **kwargs)\n",
    "\n",
    "        return wrapper\n",
    "\n",
    "    def __repr__(self):\n",
    "        args = []\n",
    "        if self._record:\n",
    "            args.append(\"record=True\")\n",
    "        if self._module is not sys.modules['warnings']:\n",
    "            args.append(\"module=%r\" % self._module)\n",
    "        name = type(self).__name__\n",
    "        return \"%s(%s)\" % (name, \", \".join(args))\n",
    "\n",
    "    def __enter__(self):\n",
    "        clean_warning_registry()  # be safe and not propagate state + chaos\n",
    "        if self._entered:\n",
    "            raise RuntimeError(\"Cannot enter %r twice\" % self)\n",
    "        self._entered = True\n",
    "        self._filters = self._module.filters\n",
    "        self._module.filters = self._filters[:]\n",
    "        self._showwarning = self._module.showwarning\n",
    "        warnings.simplefilter(\"ignore\", self.category)\n",
    "\n",
    "    def __exit__(self, *exc_info):\n",
    "        if not self._entered:\n",
    "            raise RuntimeError(\"Cannot exit %r without entering first\" % self)\n",
    "        self._module.filters = self._filters\n",
    "        self._module.showwarning = self._showwarning\n",
    "        self.log[:] = []\n",
    "        clean_warning_registry()  # be safe and not propagate state + chaos"
   ]
  }
 ],
 "metadata": {
  "kernelspec": {
   "display_name": "Python 3",
   "language": "python",
   "name": "python3"
  },
  "language_info": {
   "codemirror_mode": {
    "name": "ipython",
    "version": 3
   },
   "file_extension": ".py",
   "mimetype": "text/x-python",
   "name": "python",
   "nbconvert_exporter": "python",
   "pygments_lexer": "ipython3",
   "version": "3.6.1"
  }
 },
 "nbformat": 4,
 "nbformat_minor": 2
}
